{
 "cells": [
  {
   "cell_type": "markdown",
   "metadata": {},
   "source": [
    "### Step 1: Import necessary libraries"
   ]
  },
  {
   "cell_type": "code",
   "execution_count": null,
   "metadata": {},
   "outputs": [],
   "source": [
    "import numpy as np\n",
    "import torch\n",
    "import random\n",
    "from src.dataset.eeg_dataset import EEGDataset\n",
    "from pathlib import Path\n",
    "import pandas as pd\n",
    "import os\n",
    "from src.utils import Utils"
   ]
  },
  {
   "cell_type": "markdown",
   "metadata": {},
   "source": [
    "### Step 2: Set random seeds"
   ]
  },
  {
   "cell_type": "code",
   "execution_count": null,
   "metadata": {},
   "outputs": [],
   "source": [
    "random_seed = 42\n",
    "random.seed(random_seed)\n",
    "np.random.seed(random_seed)\n",
    "torch.manual_seed(random_seed)\n",
    "torch.cuda.manual_seed_all(random_seed)\n",
    "torch.mps.manual_seed(random_seed)"
   ]
  },
  {
   "cell_type": "code",
   "execution_count": null,
   "metadata": {},
   "outputs": [],
   "source": [
    "\n",
    "window_sizes = [128, 2 * 128, 5 * 128, 10 * 128, 30 * 128, 60*128]\n",
    "step_sizes = [128, 2 * 128, 5 * 128, 10 * 128, 30 * 128, 60*128]\n",
    "\n",
    "window_size = window_sizes[3]\n",
    "step_size = step_sizes[3]\n",
    "preprocessing = True\n",
    "feature_selection = False\n",
    "depth_of_anesthesia = True\n",
    "for_majority = int(window_size / 2)\n",
    "strategy = \"stftEEG\" \n",
    "sampling_rate = 128\n",
    "training_ids=[1, 2, 3, 4, 6, 7, 12,]\n",
    "\n",
    "#stft_window_size=1024\n",
    "#stft_hop=256\n",
    "stft_window_size=64\n",
    "stft_hop=16\n",
    "\n",
    "base_path = Path.cwd()\n",
    "data_path = base_path / \"data\""
   ]
  },
  {
   "cell_type": "code",
   "execution_count": null,
   "metadata": {},
   "outputs": [],
   "source": [
    "print(\n",
    "    f\"You are using {strategy} with a window size of {window_size} and step size of {step_size} to predict Depth of Anesthesia\"\n",
    ")"
   ]
  },
  {
   "cell_type": "code",
   "execution_count": null,
   "metadata": {},
   "outputs": [],
   "source": [
    "end_path = f\"{strategy}_{window_size}_{step_size}_{stft_window_size}_{stft_hop}.h5\"\n",
    "training_data_path = data_path / f\"training_data_{end_path}\"\n",
    "validation_data_path = data_path / f\"validation_data_{end_path}\"\n",
    "test_data_path = data_path / f\"test_data_{end_path}\"\n",
    "\n",
    "print(training_data_path)\n",
    "\n",
    "if os.path.exists(training_data_path) and os.path.exists(validation_data_path) and os.path.exists(test_data_path):\n",
    "    training_data = pd.read_hdf(data_path / f\"training_data_{end_path}\", key='eeg_window')\n",
    "    test_data = pd.read_hdf(data_path / f\"test_data_{end_path}\", key='eeg_window')\n",
    "    validation_data = pd.read_hdf(data_path / f\"validation_data_{end_path}\", key='eeg_window')\n",
    "    \n",
    "else:\n",
    "    sleep_data = EEGDataset(\n",
    "        data_dir=base_path / \"EEG_data\",\n",
    "        training_ids=training_ids,  \n",
    "        validation_ids=[11, 10, 9],\n",
    "        testing_ids=[8, 5],\n",
    "        window_size=window_size,\n",
    "        sampling_rate=sampling_rate,\n",
    "        step_size=step_size,\n",
    "        majority_voting=True,\n",
    "        for_majority=for_majority,\n",
    "        preprocessing=preprocessing,\n",
    "        inference_mode=False,\n",
    "        depth_of_anesthesia=depth_of_anesthesia,\n",
    "        strategy=strategy,\n",
    "        stft_hop=stft_hop,\n",
    "        stft_window_size=stft_window_size\n",
    "    )\n",
    "    \n",
    "    training_data = sleep_data.train_df\n",
    "    test_data = sleep_data.test_df\n",
    "    validation_data = sleep_data.val_df\n",
    "    training_data.to_hdf(\n",
    "        data_path / f\"training_data_{end_path}\", key='eeg_window', index=False\n",
    "    )\n",
    "    test_data.to_hdf(data_path / f\"test_data_{end_path}\", key='eeg_window',index=False)\n",
    "    validation_data.to_hdf(\n",
    "        data_path / f\"validation_data_{end_path}\", key='eeg_window',index=False\n",
    "    )"
   ]
  },
  {
   "cell_type": "code",
   "execution_count": null,
   "metadata": {},
   "outputs": [],
   "source": [
    "for column in training_data.columns:\n",
    "    print(column)\n",
    "print(training_data.shape)\n",
    "test_data"
   ]
  },
  {
   "cell_type": "markdown",
   "metadata": {},
   "source": [
    "### Step 3: Datasets get prepared and preprocessed for the different binary classification targets"
   ]
  },
  {
   "cell_type": "code",
   "execution_count": null,
   "metadata": {},
   "outputs": [],
   "source": [
    "utils = Utils(\n",
    "    for_majority=for_majority,\n",
    "    window_size=window_size,\n",
    "    step_size=step_size,\n",
    "    random_seed=random_seed,\n",
    "    preprocessing=preprocessing,\n",
    "    sampling_rate=sampling_rate,\n",
    "    results_validation_csv_path=base_path\n",
    "    / \"doA_classification\"\n",
    "    / \"ml_models\"\n",
    "    / \"validation_results_df.csv\",\n",
    "    results_test_csv_path=base_path\n",
    "    / \"doA_classification\"\n",
    "    / \"ml_models\"\n",
    "    / \"test_results_df.csv\",\n",
    "    model_dir=base_path / \"doA_classification\" / \"ml_models\",\n",
    "    stft_window_size=stft_window_size,\n",
    "    stft_hop=stft_hop\n",
    ")\n",
    "\n",
    "exclude_columns = [\"Start\", \"End\", \"sleep\"]\n",
    "labels = [\"sleep\"]\n",
    "if depth_of_anesthesia:\n",
    "    exclude_columns.extend([\"cr\", \"sspl\", \"burst_suppression\"])\n",
    "    labels_to_process = [\"sleep\", \"cr\", \"sspl\", \"burst_suppression\"]\n",
    "    labels.extend([\"cr\", \"sspl\", \"burst_suppression\"])\n",
    "else:\n",
    "    labels_to_process = [\"sleep\"]\n",
    "\n",
    "# Define features (excluding the necessary columns)\n",
    "features = training_data.drop(columns=exclude_columns, errors=\"ignore\").columns"
   ]
  },
  {
   "cell_type": "code",
   "execution_count": null,
   "metadata": {},
   "outputs": [],
   "source": [
    "print(np.array(test_data['stft_window'].tolist()).shape)"
   ]
  },
  {
   "cell_type": "code",
   "execution_count": null,
   "metadata": {},
   "outputs": [],
   "source": [
    "# Create a new dictionary to store preprocessed data\n",
    "preprocessed_data_dict = {}\n",
    "\n",
    "\n",
    "for label in labels_to_process:\n",
    "    print(f\"Processing {label}...\")\n",
    "    # Preprocess data\n",
    "    (\n",
    "        X,\n",
    "        y,\n",
    "        X_val,\n",
    "        y_val,\n",
    "        X_test,\n",
    "        y_test,\n",
    "        train_loader_nn,\n",
    "        val_loader_nn,\n",
    "        test_loader_nn,\n",
    "        input_size,\n",
    "    ) = utils.preprocess_data(\n",
    "        X=np.expand_dims(np.array(training_data['stft_window'].tolist()), axis=1),\n",
    "        y=training_data[label],\n",
    "        X_val=np.expand_dims(np.array(validation_data['stft_window'].tolist()), axis=1),\n",
    "        y_val=validation_data[label],\n",
    "        X_test=np.expand_dims(np.array(test_data['stft_window'].tolist()), axis=1),\n",
    "        y_test=test_data[label],\n",
    "        batch_size=512,   #1024 until 3840 ->512, 60s -> 256\n",
    "        device=\"mps\",\n",
    "        strategy=strategy,\n",
    "        classification_type=label,\n",
    "        scaling_nn=False,\n",
    "        imbalanced=True,\n",
    "    )\n",
    "\n",
    "    preprocessed_data_dict[label] = {\n",
    "        \"X\": X,\n",
    "        \"y\": y,\n",
    "        \"X_val\": X_val,\n",
    "        \"y_val\": y_val,\n",
    "        \"X_test\": X_test,\n",
    "        \"y_test\": y_test,\n",
    "        \"train_loader_nn\": train_loader_nn,\n",
    "        \"val_loader_nn\": val_loader_nn,\n",
    "        \"test_loader_nn\": test_loader_nn,\n",
    "        \"input_size\": input_size,\n",
    "    }\n",
    "\n",
    "print(\"Processing completed for all labels.\")"
   ]
  },
  {
   "cell_type": "code",
   "execution_count": null,
   "metadata": {},
   "outputs": [],
   "source": [
    "print(X_test[0].shape)\n",
    "input_size = X_test[0].shape[1]"
   ]
  },
  {
   "cell_type": "markdown",
   "metadata": {},
   "source": [
    "### Step 4: Define ML-Models "
   ]
  },
  {
   "cell_type": "code",
   "execution_count": null,
   "metadata": {},
   "outputs": [],
   "source": [
    "from src.models.LSTM import LSTMModel\n",
    "from src.models.UCR import SimpleModel, FCN, UCRResNet\n",
    "from src.models.Transformer import TSTransformerEncoderClassiregressor\n",
    "from torchvision.models import resnet18\n",
    "import torch.nn as nn\n",
    "\n",
    "model = resnet18().to('mps')\n",
    "model.conv1 = nn.Conv2d(1, 64, kernel_size=7, stride=2, padding=3, bias=False).to('mps')\n",
    "model.fc = nn.Linear(model.fc.in_features, 1).to('mps')\n",
    "\n",
    "models = {\n",
    "    \"UCRResNet\": UCRResNet(\n",
    "        input_shape=input_size,\n",
    "        n_feature_maps=64,\n",
    "        nb_classes=1\n",
    "    ).to('mps'),\n",
    "    \"LSTMModel\": LSTMModel(input_size=input_size, \n",
    "                      hidden_size=256, \n",
    "                      num_layers=2, \n",
    "                      output_size=1, \n",
    "                      dropout_rnn=0.3, \n",
    "                      dropout=0.1,\n",
    "                      bidirectional=False).to('mps'),\n",
    "    \"FCN\": FCN(\n",
    "        input_shape=input_size,\n",
    "        num_classes=1\n",
    "    ).to('mps'),\n",
    "    \"ResNet\": model\n",
    "}"
   ]
  },
  {
   "cell_type": "markdown",
   "metadata": {},
   "source": [
    "### Step 5: Train the Models for the different binary classification tasks"
   ]
  },
  {
   "cell_type": "code",
   "execution_count": null,
   "metadata": {},
   "outputs": [],
   "source": [
    "for label in [\"sleep\", \"cr\", \"sspl\", \"burst_suppression\"]:\n",
    "    for model_name, model in models.items():\n",
    "        utils.train_and_evaluate_model(\n",
    "            name=model_name,\n",
    "            model=model,\n",
    "            train_loader_nn=preprocessed_data_dict[label][\"train_loader_nn\"],\n",
    "            val_loader_nn=preprocessed_data_dict[label][\"val_loader_nn\"],\n",
    "            classification_type=label,\n",
    "            strategy=strategy,\n",
    "            learning_rate=1e-4,\n",
    "            patience=5)"
   ]
  },
  {
   "cell_type": "markdown",
   "metadata": {},
   "source": [
    "### Step 6: Get Test Results:"
   ]
  },
  {
   "cell_type": "code",
   "execution_count": null,
   "metadata": {},
   "outputs": [],
   "source": [
    "\n",
    "get_test_results = True \n",
    "if get_test_results:\n",
    "    for label in [\"sleep\", \"cr\", \"sspl\",\"burst_suppression\"]: \n",
    "\n",
    "        for model_name, model in models.items():\n",
    "\n",
    "            test_results = utils.evaluate_model_on_test(\n",
    "                model_name=model_name,\n",
    "                model=model,\n",
    "                X_test=preprocessed_data_dict[label][\"X_test\"],\n",
    "                y_test=preprocessed_data_dict[label][\"y_test\"],\n",
    "                test_loader=preprocessed_data_dict[label][\"test_loader_nn\"],\n",
    "                classification_type=label,\n",
    "                strategy=strategy,\n",
    "            )"
   ]
  }
 ],
 "metadata": {
  "kernelspec": {
   "display_name": "eeg_env",
   "language": "python",
   "name": "python3"
  },
  "language_info": {
   "codemirror_mode": {
    "name": "ipython",
    "version": 3
   },
   "file_extension": ".py",
   "mimetype": "text/x-python",
   "name": "python",
   "nbconvert_exporter": "python",
   "pygments_lexer": "ipython3",
   "version": "3.9.22"
  }
 },
 "nbformat": 4,
 "nbformat_minor": 2
}
