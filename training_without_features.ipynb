{
 "cells": [
  {
   "cell_type": "markdown",
   "metadata": {},
   "source": [
    "### Step 1: Import necessary libraries"
   ]
  },
  {
   "cell_type": "code",
   "execution_count": null,
   "metadata": {},
   "outputs": [],
   "source": [
    "import numpy as np\n",
    "import torch\n",
    "import random\n",
    "from src.dataset.eeg_dataset import EEGDataset\n",
    "from pathlib import Path\n",
    "import pandas as pd\n",
    "import os\n",
    "from src.utils import Utils"
   ]
  },
  {
   "cell_type": "markdown",
   "metadata": {},
   "source": [
    "### Step 2: Set random seeds"
   ]
  },
  {
   "cell_type": "code",
   "execution_count": null,
   "metadata": {},
   "outputs": [],
   "source": [
    "random_seed = 42\n",
    "random.seed(random_seed)\n",
    "np.random.seed(random_seed)\n",
    "torch.manual_seed(random_seed)\n",
    "torch.cuda.manual_seed_all(random_seed)\n",
    "torch.mps.manual_seed(random_seed)"
   ]
  },
  {
   "cell_type": "markdown",
   "metadata": {},
   "source": [
    "### Step 3: Set your parameters"
   ]
  },
  {
   "cell_type": "code",
   "execution_count": null,
   "metadata": {},
   "outputs": [],
   "source": [
    "window_sizes = [128, 2 * 128, 5 * 128, 10 * 128, 30 * 128, 60*128]\n",
    "step_sizes = [128, 2 * 128, 5 * 128, 10 * 128, 30 * 128, 60*128]\n",
    "\n",
    "window_size = window_sizes[5]\n",
    "step_size = step_sizes[4]\n",
    "#window_size = 10*128\n",
    "#step_size = 5*128\n",
    "preprocessing = True\n",
    "feature_selection = False\n",
    "depth_of_anesthesia = True\n",
    "for_majority = int(window_size / 2)\n",
    "strategy = \"rawEEG\"   #\"stftEEG\" for stft\n",
    "sampling_rate = 128\n",
    "training_ids=[1, 2, 3, 4, 6, 7, 12,]\n",
    "\n",
    "base_path = Path.cwd()\n",
    "data_path = base_path / \"data\"\n"
   ]
  },
  {
   "cell_type": "code",
   "execution_count": null,
   "metadata": {},
   "outputs": [],
   "source": [
    "print(\n",
    "    f\"You are using {strategy} with a window size of {window_size} and step size of {step_size} to predict Depth of Anesthesia\"\n",
    ")"
   ]
  },
  {
   "cell_type": "markdown",
   "metadata": {},
   "source": [
    "### Step 4: Load the Data and create the features\n",
    "If your feature-dataset was already created and saved as a csv, you can skip to Step 5\n"
   ]
  },
  {
   "cell_type": "code",
   "execution_count": null,
   "metadata": {},
   "outputs": [],
   "source": [
    "training_data_path = data_path / f\"training_data_{strategy}_{window_size}_{step_size}.h5\"\n",
    "validation_data_path = data_path / f\"validation_data_{strategy}_{window_size}_{step_size}.h5\"\n",
    "test_data_path = data_path / f\"test_data_{strategy}_{window_size}_{step_size}.h5\"\n",
    "\n",
    "print(training_data_path)\n",
    "\n",
    "if os.path.exists(training_data_path) and os.path.exists(validation_data_path) and os.path.exists(test_data_path):\n",
    "    training_data = pd.read_hdf(data_path / f\"training_data_{strategy}_{window_size}_{step_size}.h5\", key='eeg_window')\n",
    "    test_data = pd.read_hdf(data_path / f\"test_data_{strategy}_{window_size}_{step_size}.h5\", key='eeg_window')\n",
    "    validation_data = pd.read_hdf(data_path / f\"validation_data_{strategy}_{window_size}_{step_size}.h5\", key='eeg_window')\n",
    "    \n",
    "else:\n",
    "    sleep_data = EEGDataset(\n",
    "        data_dir=base_path / \"EEG_data\",\n",
    "        training_ids=training_ids,  \n",
    "        validation_ids=[11, 10, 9],\n",
    "        testing_ids=[8, 5],\n",
    "        window_size=window_size,\n",
    "        sampling_rate=sampling_rate,\n",
    "        step_size=step_size,\n",
    "        majority_voting=True,\n",
    "        for_majority=for_majority,\n",
    "        preprocessing=preprocessing,\n",
    "        inference_mode=False,\n",
    "        depth_of_anesthesia=depth_of_anesthesia,\n",
    "        strategy=strategy,\n",
    "    )\n",
    "    training_data = sleep_data.train_df\n",
    "    test_data = sleep_data.test_df\n",
    "    validation_data = sleep_data.val_df\n",
    "    training_data.to_hdf(\n",
    "        data_path / f\"training_data_{strategy}_{window_size}_{step_size}.h5\", key='eeg_window', index=False\n",
    "    )\n",
    "    test_data.to_hdf(data_path / f\"test_data_{strategy}_{window_size}_{step_size}.h5\", key='eeg_window',index=False)\n",
    "    validation_data.to_hdf(\n",
    "        data_path / f\"validation_data_{strategy}_{window_size}_{step_size}.h5\", key='eeg_window',index=False\n",
    "    )"
   ]
  },
  {
   "cell_type": "code",
   "execution_count": null,
   "metadata": {},
   "outputs": [],
   "source": [
    "for column in training_data.columns:\n",
    "    print(column)\n",
    "print(training_data.shape)\n",
    "training_data.head()"
   ]
  },
  {
   "cell_type": "markdown",
   "metadata": {},
   "source": [
    "### Step 5: Datasets get prepared and preprocessed for the different binary classification targets"
   ]
  },
  {
   "cell_type": "code",
   "execution_count": null,
   "metadata": {},
   "outputs": [],
   "source": [
    "utils = Utils(\n",
    "    for_majority=for_majority,\n",
    "    window_size=window_size,\n",
    "    step_size=step_size,\n",
    "    random_seed=random_seed,\n",
    "    preprocessing=preprocessing,\n",
    "    sampling_rate=sampling_rate,\n",
    "    results_validation_csv_path=base_path\n",
    "    / \"doA_classification\"\n",
    "    / \"ml_models\"\n",
    "    / \"validation_results_df.csv\",\n",
    "    results_test_csv_path=base_path\n",
    "    / \"doA_classification\"\n",
    "    / \"ml_models\"\n",
    "    / \"test_results_df.csv\",\n",
    "    model_dir=base_path / \"doA_classification\" / \"ml_models\",\n",
    ")\n",
    "\n",
    "exclude_columns = [\"Start\", \"End\", \"sleep\"]\n",
    "labels = [\"sleep\"]\n",
    "if depth_of_anesthesia:\n",
    "    exclude_columns.extend([\"cr\", \"sspl\", \"burst_suppression\"])\n",
    "    labels_to_process = [\"sleep\", \"cr\", \"sspl\", \"burst_suppression\"]\n",
    "    labels.extend([\"cr\", \"sspl\", \"burst_suppression\"])\n",
    "else:\n",
    "    labels_to_process = [\"sleep\"]\n",
    "\n",
    "# Define features (excluding the necessary columns)\n",
    "features = training_data.drop(columns=exclude_columns, errors=\"ignore\").columns"
   ]
  },
  {
   "cell_type": "code",
   "execution_count": null,
   "metadata": {},
   "outputs": [],
   "source": [
    "\n",
    "# Create a new dictionary to store preprocessed data\n",
    "preprocessed_data_dict = {}\n",
    "\n",
    "\n",
    "for label in labels_to_process:\n",
    "    print(f\"Processing {label}...\")\n",
    "    # Preprocess data\n",
    "    (\n",
    "        X,\n",
    "        y,\n",
    "        X_val,\n",
    "        y_val,\n",
    "        X_test,\n",
    "        y_test,\n",
    "        train_loader_nn,\n",
    "        val_loader_nn,\n",
    "        test_loader_nn,\n",
    "        input_size,\n",
    "    ) = utils.preprocess_data(\n",
    "        X=np.vstack(training_data['eeg_window'].values),\n",
    "        y=training_data[label],\n",
    "        X_val=np.vstack(validation_data['eeg_window'].values),\n",
    "        y_val=validation_data[label],\n",
    "        X_test=np.vstack(test_data['eeg_window'].values),\n",
    "        y_test=test_data[label],\n",
    "        batch_size=11, #1024 until 1280 512 until 3840 then 128\n",
    "        device=\"mps\",\n",
    "        strategy=strategy,\n",
    "        classification_type=label,\n",
    "        imbalanced=True,\n",
    "    )\n",
    "\n",
    "    preprocessed_data_dict[label] = {\n",
    "        \"X\": X,\n",
    "        \"y\": y,\n",
    "        \"X_val\": X_val,\n",
    "        \"y_val\": y_val,\n",
    "        \"X_test\": X_test,\n",
    "        \"y_test\": y_test,\n",
    "        \"train_loader_nn\": train_loader_nn,\n",
    "        \"val_loader_nn\": val_loader_nn,\n",
    "        \"test_loader_nn\": test_loader_nn,\n",
    "        \"input_size\": input_size,\n",
    "    }\n",
    "\n",
    "print(\"Processing completed for all labels.\")"
   ]
  },
  {
   "cell_type": "markdown",
   "metadata": {},
   "source": [
    "### Step 6: Define ML-Models "
   ]
  },
  {
   "cell_type": "code",
   "execution_count": null,
   "metadata": {},
   "outputs": [],
   "source": [
    "from src.models.LSTM import LSTMModel\n",
    "from src.models.UCR import SimpleModel, FCN, UCRResNet\n",
    "\n",
    "\n",
    "models = {\n",
    "    \"SimpleModel\": SimpleModel(\n",
    "        input_size=window_size,\n",
    "        hidden_size=500,\n",
    "        output_size=1\n",
    "    ).to('mps'),\n",
    "    \"FCN\": FCN(\n",
    "        input_shape=1,\n",
    "        num_classes=1\n",
    "    ).to('mps'),\n",
    "    \"UCRResNet\": UCRResNet(\n",
    "        input_shape=1,\n",
    "        n_feature_maps=64,\n",
    "        nb_classes=1\n",
    "    ).to('mps'),\n",
    "    \"LSTMModel\": LSTMModel(input_size=1, \n",
    "                    hidden_size=256, \n",
    "                    num_layers=2, \n",
    "                    output_size=1, \n",
    "                    dropout_rnn=0.3, \n",
    "                    dropout=0.1,\n",
    "                    bidirectional=False).to('mps'),\n",
    "    \n",
    "}"
   ]
  },
  {
   "cell_type": "markdown",
   "metadata": {},
   "source": [
    "### Step 7: Train the Models for the different binary classification tasks"
   ]
  },
  {
   "cell_type": "code",
   "execution_count": null,
   "metadata": {},
   "outputs": [],
   "source": [
    "for label in [\"sleep\", \"cr\",\"sspl\", \"burst_suppression\"]:\n",
    "    for model_name, model in models.items():\n",
    "        utils.train_and_evaluate_model(\n",
    "            name=model_name,\n",
    "            model=model,\n",
    "            train_loader_nn=preprocessed_data_dict[label][\"train_loader_nn\"],\n",
    "            val_loader_nn=preprocessed_data_dict[label][\"val_loader_nn\"],\n",
    "            classification_type=label,\n",
    "            strategy=strategy,\n",
    "            patience=3)"
   ]
  },
  {
   "cell_type": "markdown",
   "metadata": {},
   "source": [
    "### Step 8: Get Test Results:"
   ]
  },
  {
   "cell_type": "code",
   "execution_count": null,
   "metadata": {},
   "outputs": [],
   "source": [
    "get_test_results = True  \n",
    "if get_test_results:\n",
    "    for label in [\"sleep\", \"cr\", \"sspl\",\"burst_suppression\"]: \n",
    "\n",
    "        for model_name, model in models.items():\n",
    "\n",
    "            test_results = utils.evaluate_model_on_test(\n",
    "                model_name=model_name,\n",
    "                model=model,\n",
    "                X_test=preprocessed_data_dict[label][\"X_test\"],\n",
    "                y_test=preprocessed_data_dict[label][\"y_test\"],\n",
    "                test_loader=preprocessed_data_dict[label][\"test_loader_nn\"],\n",
    "                classification_type=label,\n",
    "                strategy=strategy,\n",
    "            )"
   ]
  }
 ],
 "metadata": {
  "kernelspec": {
   "display_name": "eeg_vit",
   "language": "python",
   "name": "python3"
  },
  "language_info": {
   "codemirror_mode": {
    "name": "ipython",
    "version": 3
   },
   "file_extension": ".py",
   "mimetype": "text/x-python",
   "name": "python",
   "nbconvert_exporter": "python",
   "pygments_lexer": "ipython3",
   "version": "3.9.22"
  }
 },
 "nbformat": 4,
 "nbformat_minor": 2
}
